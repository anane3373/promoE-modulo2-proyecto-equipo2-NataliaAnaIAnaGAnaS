{
 "cells": [
  {
   "cell_type": "markdown",
   "metadata": {},
   "source": [
    "Vamos con XML"
   ]
  },
  {
   "cell_type": "code",
   "execution_count": 1,
   "metadata": {},
   "outputs": [],
   "source": [
    "import pandas as pd\n",
    "import numpy as np\n",
    "import re"
   ]
  },
  {
   "cell_type": "code",
   "execution_count": 2,
   "metadata": {},
   "outputs": [],
   "source": [
    "xml = pd.read_csv('data/df_xml.csv', index_col = 'index')"
   ]
  },
  {
   "cell_type": "code",
   "execution_count": 3,
   "metadata": {},
   "outputs": [],
   "source": [
    "texto = pd.read_csv(\"data/data_txt_clean.txt\", sep = \";\")\n"
   ]
  },
  {
   "cell_type": "code",
   "execution_count": 4,
   "metadata": {},
   "outputs": [
    {
     "data": {
      "text/html": [
       "<div>\n",
       "<style scoped>\n",
       "    .dataframe tbody tr th:only-of-type {\n",
       "        vertical-align: middle;\n",
       "    }\n",
       "\n",
       "    .dataframe tbody tr th {\n",
       "        vertical-align: top;\n",
       "    }\n",
       "\n",
       "    .dataframe thead th {\n",
       "        text-align: right;\n",
       "    }\n",
       "</style>\n",
       "<table border=\"1\" class=\"dataframe\">\n",
       "  <thead>\n",
       "    <tr style=\"text-align: right;\">\n",
       "      <th></th>\n",
       "      <th>Q3</th>\n",
       "      <th>Q4</th>\n",
       "      <th>Q5</th>\n",
       "      <th>Q6</th>\n",
       "      <th>Q20</th>\n",
       "      <th>Q25</th>\n",
       "    </tr>\n",
       "  </thead>\n",
       "  <tbody>\n",
       "    <tr>\n",
       "      <th>0</th>\n",
       "      <td>India</td>\n",
       "      <td>Bachelor’s degree</td>\n",
       "      <td>Other</td>\n",
       "      <td>5-10 years</td>\n",
       "      <td>Manufacturing/Fabrication</td>\n",
       "      <td>25,000-29,999</td>\n",
       "    </tr>\n",
       "    <tr>\n",
       "      <th>1</th>\n",
       "      <td>Indonesia</td>\n",
       "      <td>Master’s degree</td>\n",
       "      <td>Program/Project Manager</td>\n",
       "      <td>20+ years</td>\n",
       "      <td>Manufacturing/Fabrication</td>\n",
       "      <td>60,000-69,999</td>\n",
       "    </tr>\n",
       "    <tr>\n",
       "      <th>2</th>\n",
       "      <td>Pakistan</td>\n",
       "      <td>Master’s degree</td>\n",
       "      <td>Software Engineer</td>\n",
       "      <td>1-3 years</td>\n",
       "      <td>Academics/Education</td>\n",
       "      <td>$0-999</td>\n",
       "    </tr>\n",
       "    <tr>\n",
       "      <th>3</th>\n",
       "      <td>Mexico</td>\n",
       "      <td>Doctoral degree</td>\n",
       "      <td>Research Scientist</td>\n",
       "      <td>20+ years</td>\n",
       "      <td>Academics/Education</td>\n",
       "      <td>30,000-39,999</td>\n",
       "    </tr>\n",
       "    <tr>\n",
       "      <th>4</th>\n",
       "      <td>India</td>\n",
       "      <td>Doctoral degree</td>\n",
       "      <td>Other</td>\n",
       "      <td>&lt; 1 years</td>\n",
       "      <td>Academics/Education</td>\n",
       "      <td>30,000-39,999</td>\n",
       "    </tr>\n",
       "  </tbody>\n",
       "</table>\n",
       "</div>"
      ],
      "text/plain": [
       "          Q3                 Q4                       Q5          Q6  \\\n",
       "0      India  Bachelor’s degree                    Other  5-10 years   \n",
       "1  Indonesia    Master’s degree  Program/Project Manager   20+ years   \n",
       "2   Pakistan    Master’s degree        Software Engineer   1-3 years   \n",
       "3     Mexico    Doctoral degree       Research Scientist   20+ years   \n",
       "4      India    Doctoral degree                    Other   < 1 years   \n",
       "\n",
       "                         Q20            Q25  \n",
       "0  Manufacturing/Fabrication  25,000-29,999  \n",
       "1  Manufacturing/Fabrication  60,000-69,999  \n",
       "2        Academics/Education         $0-999  \n",
       "3        Academics/Education  30,000-39,999  \n",
       "4        Academics/Education  30,000-39,999  "
      ]
     },
     "execution_count": 4,
     "metadata": {},
     "output_type": "execute_result"
    }
   ],
   "source": [
    "# nos quedamos sólo con estas columnas:\n",
    "\n",
    "texto_q_filtrado = texto.loc[:,(\"Q3\", \"Q4\", \"Q5\", \"Q6\", \"Q20\", \"Q25\")]\n",
    "texto_q_filtrado.head()"
   ]
  },
  {
   "cell_type": "code",
   "execution_count": 5,
   "metadata": {},
   "outputs": [],
   "source": [
    "kaggle = pd.read_csv('data/kaggle.csv', index_col='index')"
   ]
  },
  {
   "cell_type": "code",
   "execution_count": 10,
   "metadata": {},
   "outputs": [
    {
     "data": {
      "text/plain": [
       "['Q39_Part_1',\n",
       " 'Q39_Part_2',\n",
       " 'Q39_Part_3',\n",
       " 'Q39_Part_4',\n",
       " 'Q39_Part_5',\n",
       " 'Q39_Part_6',\n",
       " 'Q39_Part_7',\n",
       " 'Q39_Part_8',\n",
       " 'Q39_Part_9',\n",
       " 'Q39_OTHER',\n",
       " 'Q40_Part_1',\n",
       " 'Q40_Part_2',\n",
       " 'Q40_Part_3',\n",
       " 'Q40_Part_4',\n",
       " 'Q40_Part_5',\n",
       " 'Q40_Part_6',\n",
       " 'Q40_Part_7',\n",
       " 'Q40_Part_8',\n",
       " 'Q40_Part_9',\n",
       " 'Q40_Part_10',\n",
       " 'Q40_Part_11',\n",
       " 'Q40_OTHER',\n",
       " 'Q42_Part_1',\n",
       " 'Q42_Part_2',\n",
       " 'Q42_Part_3',\n",
       " 'Q42_Part_4',\n",
       " 'Q42_Part_5',\n",
       " 'Q42_Part_6',\n",
       " 'Q42_Part_7',\n",
       " 'Q42_Part_8',\n",
       " 'Q42_Part_9',\n",
       " 'Q42_Part_10',\n",
       " 'Q42_Part_11',\n",
       " 'Q42_OTHER']"
      ]
     },
     "execution_count": 10,
     "metadata": {},
     "output_type": "execute_result"
    }
   ],
   "source": [
    "# pasamos las columnas a una lista para buscarlas directamente en el df de kaggle:\n",
    "columns_kag = kaggle.columns\n",
    "\n",
    "q39_q42 = []\n",
    "\n",
    "for col in columns_kag:     # para que vaya iterando por todas las columnas\n",
    "\n",
    "    regex_= 'Q39|Q40|Q42' \n",
    "\n",
    "    if re.findall(regex_, col):\n",
    "\n",
    "        q39_q42.append(col)\n",
    "\n",
    "q39_q42"
   ]
  },
  {
   "cell_type": "code",
   "execution_count": 11,
   "metadata": {},
   "outputs": [],
   "source": [
    "kaggle_q_filtrado= kaggle[q39_q42]"
   ]
  },
  {
   "cell_type": "code",
   "execution_count": 12,
   "metadata": {},
   "outputs": [
    {
     "name": "stdout",
     "output_type": "stream",
     "text": [
      "(25973, 34)\n",
      "(25973, 6)\n",
      "(25973, 3)\n"
     ]
    }
   ],
   "source": [
    "# comprobamos que todos los archivos contienen el mismo número de filas para la unión\n",
    "\n",
    "print(kaggle_q_filtrado.shape)\n",
    "print(texto_q_filtrado.shape)\n",
    "print(xml.shape)"
   ]
  },
  {
   "cell_type": "code",
   "execution_count": 13,
   "metadata": {},
   "outputs": [
    {
     "data": {
      "text/plain": [
       "Index(['time', 'age', 'gender', 'Q3', 'Q4', 'Q5', 'Q6', 'Q20', 'Q25',\n",
       "       'Q39_Part_1', 'Q39_Part_2', 'Q39_Part_3', 'Q39_Part_4', 'Q39_Part_5',\n",
       "       'Q39_Part_6', 'Q39_Part_7', 'Q39_Part_8', 'Q39_Part_9', 'Q39_OTHER',\n",
       "       'Q40_Part_1', 'Q40_Part_2', 'Q40_Part_3', 'Q40_Part_4', 'Q40_Part_5',\n",
       "       'Q40_Part_6', 'Q40_Part_7', 'Q40_Part_8', 'Q40_Part_9', 'Q40_Part_10',\n",
       "       'Q40_Part_11', 'Q40_OTHER', 'Q42_Part_1', 'Q42_Part_2', 'Q42_Part_3',\n",
       "       'Q42_Part_4', 'Q42_Part_5', 'Q42_Part_6', 'Q42_Part_7', 'Q42_Part_8',\n",
       "       'Q42_Part_9', 'Q42_Part_10', 'Q42_Part_11', 'Q42_OTHER'],\n",
       "      dtype='object')"
      ]
     },
     "execution_count": 13,
     "metadata": {},
     "output_type": "execute_result"
    }
   ],
   "source": [
    "df_adalab = xml.join(texto_q_filtrado).join(kaggle_q_filtrado)\n",
    "df_adalab.columns"
   ]
  },
  {
   "cell_type": "code",
   "execution_count": 14,
   "metadata": {},
   "outputs": [],
   "source": [
    "df_adalab.to_csv(\"data/df_adalab.csv\")"
   ]
  }
 ],
 "metadata": {
  "kernelspec": {
   "display_name": "adalabenv",
   "language": "python",
   "name": "python3"
  },
  "language_info": {
   "codemirror_mode": {
    "name": "ipython",
    "version": 3
   },
   "file_extension": ".py",
   "mimetype": "text/x-python",
   "name": "python",
   "nbconvert_exporter": "python",
   "pygments_lexer": "ipython3",
   "version": "3.10.11"
  },
  "orig_nbformat": 4
 },
 "nbformat": 4,
 "nbformat_minor": 2
}

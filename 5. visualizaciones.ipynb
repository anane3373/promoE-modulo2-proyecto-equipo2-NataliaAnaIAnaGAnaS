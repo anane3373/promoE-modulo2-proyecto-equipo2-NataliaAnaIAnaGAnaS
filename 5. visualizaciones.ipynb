{
 "cells": [
  {
   "cell_type": "markdown",
   "metadata": {},
   "source": [
    "### PREGUNTAS\n",
    "\n",
    "PASO UNO (CÓMO LLEGO A MI PÚBLICO OBJETIVO)\n",
    "- ¿Hay poco porcentaje de mujeres en el sector tecnológico? ¿Esto está relacionado con el país que analizamos (global, europero, español)? **Resuelto con gráfica\n",
    "- Salario de Data analist y Bussines Analyst (en función de la experiencia). Brecha de género.\n",
    "- Analizar el nivel de estudios y el sector del que vienen las mujeres que trabajan en DA o BA.\n",
    "\n",
    "PASO DOS (QUÉ LE OFREZCO A MI PÚBLICO OBJETIVO)\n",
    "\n",
    "- seleccionar rol: Data Analist, Business Analist\n",
    "\n",
    "- con qué trabajan esos roles: herramientas de visualizacion, de graficas, notebooks, bases de datos relacionales y no relacionales, lenguajes de programación."
   ]
  },
  {
   "cell_type": "code",
   "execution_count": 9,
   "metadata": {},
   "outputs": [],
   "source": [
    "import pandas as pd\n",
    "import numpy as np\n",
    "import os\n",
    "import seaborn as sns\n",
    "import matplotlib.pyplot as plt\n",
    "import sidetable"
   ]
  },
  {
   "cell_type": "code",
   "execution_count": 10,
   "metadata": {},
   "outputs": [],
   "source": [
    "df_adalab_limpio = pd.read_csv('data/df_adalab_limpio.csv', index_col = 'index')\n",
    "df_notebooks = pd.read_csv('data/df_notebooks.csv', index_col = 'index')\n",
    "df_languages = pd.read_csv('data/df_languages.csv', index_col = 'index')\n",
    "df_learn = pd.read_csv('data/df_learn.csv', index_col = 'index')\n",
    "df_viz = pd.read_csv('data/df_viz.csv', index_col = 'index')\n",
    "df_share = pd.read_csv('data/df_share.csv', index_col = 'index')\n",
    "df_code_env = pd.read_csv('data/df_code_env.csv', index_col = 'index')\n",
    "df_courses = pd.read_csv('data/df_courses.csv', index_col = 'index')"
   ]
  },
  {
   "cell_type": "code",
   "execution_count": 18,
   "metadata": {},
   "outputs": [],
   "source": [
    "lista_df = [df_languages, df_viz, df_code_env, df_notebooks, df_share, df_learn, df_courses]"
   ]
  },
  {
   "cell_type": "code",
   "execution_count": 19,
   "metadata": {},
   "outputs": [
    {
     "data": {
      "text/plain": [
       "'notebooks_unido'"
      ]
     },
     "execution_count": 19,
     "metadata": {},
     "output_type": "execute_result"
    }
   ],
   "source": [
    "df_notebooks.columns[-1]"
   ]
  },
  {
   "cell_type": "code",
   "execution_count": 21,
   "metadata": {},
   "outputs": [],
   "source": [
    "lista_titulos = [\"Lenguajes de programación\", \"Librerías de visualización\", \"Ambientes de Desarrollo de Código\", \"Productos de Alojamiento de Notebooks\", \"Plataformas para compartir proyectos\", \"Productos de Big Data medio plazo\", \"Plataformas de formación\"]"
   ]
  },
  {
   "cell_type": "code",
   "execution_count": 25,
   "metadata": {},
   "outputs": [
    {
     "ename": "SyntaxError",
     "evalue": "invalid syntax (2459855753.py, line 12)",
     "output_type": "error",
     "traceback": [
      "\u001b[0;36m  File \u001b[0;32m\"/tmp/ipykernel_18356/2459855753.py\"\u001b[0;36m, line \u001b[0;32m12\u001b[0m\n\u001b[0;31m    fig.set((xlabel='Cantidad', ylabel = '', color = 'black', fontweight='bold', fontsize = 10)\u001b[0m\n\u001b[0m                   ^\u001b[0m\n\u001b[0;31mSyntaxError\u001b[0m\u001b[0;31m:\u001b[0m invalid syntax\n"
     ]
    }
   ],
   "source": [
    "fig, axes = plt.subplots (4, 2, figsize = (20, 30))\n",
    "\n",
    "axes = axes.flat \n",
    "\n",
    "for indice, df in enumerate(lista_df):\n",
    "    columna = df.columns[-1]\n",
    "    orden = df[columna].value_counts().index #sacamos el índice de las columnas, ordenando sus valores de mayor a menor \n",
    "    sns.countplot( y = columna, data = df, order = orden, ax = axes[indice], palette= \"crest\") \n",
    "    for ind, titulo in enumerate (lista_titulos):\n",
    "        axes[ind].set_title(titulo, size= 22)\n",
    "\n",
    "fig.set((xlabel='Cantidad', ylabel = '', color = 'black', fontweight='bold', fontsize = 10)\n",
    "plt.tight_layout()\n",
    "fig.delaxes(axes[-1]);"
   ]
  }
 ],
 "metadata": {
  "kernelspec": {
   "display_name": "adalabenv",
   "language": "python",
   "name": "python3"
  },
  "language_info": {
   "codemirror_mode": {
    "name": "ipython",
    "version": 3
   },
   "file_extension": ".py",
   "mimetype": "text/x-python",
   "name": "python",
   "nbconvert_exporter": "python",
   "pygments_lexer": "ipython3",
   "version": "3.9.7"
  },
  "orig_nbformat": 4
 },
 "nbformat": 4,
 "nbformat_minor": 2
}

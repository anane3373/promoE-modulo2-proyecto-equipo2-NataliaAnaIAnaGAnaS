{
 "cells": [
  {
   "cell_type": "markdown",
   "metadata": {},
   "source": [
    "CONCLUSIONES PARA LA PARTE DE FORMACIÓN:\n",
    "\n",
    "- Los profesionales de Business Intelengence y Data Analyst emplean con más frecuencia Kaggle y Colab Notebooks.\n",
    "\n",
    "- El lenguaje más usado por éstos son Python y SQL, seguido de R.\n",
    "    [SQL es el lenguaje ] \n",
    "\n",
    "- Según el conjunto de datos, el top5 de big data productos que esperan utilizar están todas relacionadas con el lenguaje SQL siendo: MySQL, Microsoft SQL Server, Mongo DB, Postgre SQL.\n",
    "\n",
    "- En cuanto a las librerías con las que trabajan más a menudo para realizar visualizaciones, las preferidas son matplotlib y seaborn, seguido de lejos por ggplot y plotly.\n",
    "\n",
    "- Observamos que los profesionales o bien, no comparten su trabajo, o bien, lo hacen mayoritariamente en GitHub y Kaggle. \n",
    "\n",
    "- Las gráficas nos muestran que Jupyter Notebooks y Visual Studio Code son los IDE más empleados.\n",
    "\n",
    "- Las compañías donde prefieren estudiar serían, según esta muestra, Coursera, Kaggle learn courses y Udemy.\n",
    "\n",
    "- Las herramientas de visualización más usadas para DA/BA son PowerBI y Tableau. Para Adalab, podría ser buena idea revisar esta herramienta.   \n",
    "    [En conclusión, Power BI tiene la ventaja por su facilidad de uso mientras que Tableau es más rápida y completa. Las pequeñas empresas con presupuestos y recursos humanos limitados pueden empezar con Power BI, especialmente si ya han invertido en productos de Microsoft]"
   ]
  },
  {
   "cell_type": "markdown",
   "metadata": {},
   "source": [
    "CONCLUSIONES PARA LA PARTE DE MARKETING:\n",
    "- A nivel europeo+america latina, el porcentaje de mujeres en el secto DA/BA es de un 16.53%, frente a un 82.65% de hombres.\n",
    "- Con respecto a la educación, tanto la muestra de mujeres como la global, tienen en su mayoría un Master Degree, seguido de Bachelor Degree. En cambio, en la tercera más frecuente sí se observa diferencias entre la muestra global y la de mujeres: en la global la tercera más frecuente es 'Some college/university study without earning a bachelor’s degree' y, en cambio, en el caso de mujeres es \"Doctoral degree\".\n",
    "Con respecto a los salarios por rol:\n",
    "    - Para la muestra de España, se observan diferencias entre los roles DA y BA: mientras el rol BA parece que tiene salarios más homogéneos, en el caso de DA, encontramos que la mayoría tienen un salario entre 20 y 50K.\n",
    "    - En el caso de Europa, aunque en el caso de los BA está menos acusado, sí que se observa que los datos están sesgados hacia la derecha: hay una mayor proporción de la muestra que tiene salarios <20K o entre 20-50K que salarios superiores a esto.\n",
    "Con respecto a los salarios por experiencia:\n",
    "    - En España: Sí que parece haber relación entre los años de experiencia escribiendo código y salario:\n",
    "        - los sujetos sin experiencia tienen salarios más bajos (<20K o entre 20 y 50K).\n",
    "        - Los sujetos entre 3 y 5 años de experiencia escribiendo código tienen en su mayoría salarios 20-50K.\n",
    "        - Los sujetos con más de 10 años de experiencia, tienen salarios entre 50-100K.\n",
    "    - En el caso de Europa, parece haber relación entre los años de experiencia escribiendo código y el salario: los sujetos sin experiencia salarios más bajos.\n",
    "- Sobre las plataformas más utilizadas por los estudiantes y desempleados (donde Adañab puede enfocar su publicidad), son: Kaggle , Youtube y blogs específicos de data science.\n",
    "[Kaggle es la comunidad online de científicos de datos y profesionales de machine learning (datasets, cursos, etc.)]\n",
    "\n",
    "- "
   ]
  }
 ],
 "metadata": {
  "kernelspec": {
   "display_name": "base",
   "language": "python",
   "name": "python3"
  },
  "language_info": {
   "name": "python",
   "version": "3.9.7"
  },
  "orig_nbformat": 4
 },
 "nbformat": 4,
 "nbformat_minor": 2
}

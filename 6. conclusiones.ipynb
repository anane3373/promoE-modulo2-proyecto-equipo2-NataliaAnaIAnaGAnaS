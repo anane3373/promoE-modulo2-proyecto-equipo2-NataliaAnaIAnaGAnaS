{
 "cells": [
  {
   "cell_type": "markdown",
   "metadata": {},
   "source": [
    "CONCLUSIONES PARA LA PARTE DE FORMACIÓN:\n",
    "\n",
    "- Los profesionales de Business Intelengence y Data Analyst emplean con más frecuencia Kaggle y Colab Notebooks.\n",
    "\n",
    "- El lenguaje más usado por éstos son Python y SQL, seguido de R. \n",
    "\n",
    "- Según el conjunto de datos, el top5 de big data productos que esperan utilizar están todas relacionadas con el lenguaje SQL siendo: MySQL, Microsoft SQL Server, Mongo DB, Postgre SQL.\n",
    "\n",
    "- En cuanto a las librerías con las que trabajan más a menudo para realizar visualizaciones, las preferidas son matplotlib y seaborn, seguido de lejos por ggplot y plotly.\n",
    "\n",
    "- Observamos que los profesionales o bien, no comparten su trabajo, o bien, lo hacen mayoritariamente en GitHub y Kaggle. \n",
    "\n",
    "- Las gráficas nos muestran que Jupyter Notebooks y Visual Studio Code son los IDE más empleados.\n",
    "\n",
    "- Las compañías donde prefieren estudiar serían, según esta muestra, Coursera, Kaggle learn courses y Udemy."
   ]
  }
 ],
 "metadata": {
  "kernelspec": {
   "display_name": "base",
   "language": "python",
   "name": "python3"
  },
  "language_info": {
   "name": "python",
   "version": "3.9.7"
  },
  "orig_nbformat": 4
 },
 "nbformat": 4,
 "nbformat_minor": 2
}

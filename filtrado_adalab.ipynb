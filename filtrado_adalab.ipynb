{
 "cells": [
  {
   "cell_type": "code",
   "execution_count": 2,
   "metadata": {},
   "outputs": [],
   "source": [
    "import numpy as np\n",
    "import pandas as pd"
   ]
  },
  {
   "cell_type": "code",
   "execution_count": 4,
   "metadata": {},
   "outputs": [],
   "source": [
    "df_adalab = pd.read_csv(\"data/df_adalab.csv\")"
   ]
  },
  {
   "cell_type": "code",
   "execution_count": 5,
   "metadata": {},
   "outputs": [
    {
     "data": {
      "text/plain": [
       "(25973, 44)"
      ]
     },
     "execution_count": 5,
     "metadata": {},
     "output_type": "execute_result"
    }
   ],
   "source": [
    "df_adalab.shape"
   ]
  },
  {
   "cell_type": "code",
   "execution_count": 6,
   "metadata": {},
   "outputs": [
    {
     "name": "stdout",
     "output_type": "stream",
     "text": [
      "Index(['index', 'time', 'age', 'gender', 'Q3', 'Q4', 'Q5', 'Q6', 'Q20', 'Q25',\n",
      "       'Q39_Part_1', 'Q39_Part_2', 'Q39_Part_3', 'Q39_Part_4', 'Q39_Part_5',\n",
      "       'Q39_Part_6', 'Q39_Part_7', 'Q39_Part_8', 'Q39_Part_9', 'Q39_OTHER',\n",
      "       'Q40_Part_1', 'Q40_Part_2', 'Q40_Part_3', 'Q40_Part_4', 'Q40_Part_5',\n",
      "       'Q40_Part_6', 'Q40_Part_7', 'Q40_Part_8', 'Q40_Part_9', 'Q40_Part_10',\n",
      "       'Q40_Part_11', 'Q40_OTHER', 'Q42_Part_1', 'Q42_Part_2', 'Q42_Part_3',\n",
      "       'Q42_Part_4', 'Q42_Part_5', 'Q42_Part_6', 'Q42_Part_7', 'Q42_Part_8',\n",
      "       'Q42_Part_9', 'Q42_Part_10', 'Q42_Part_11', 'Q42_OTHER'],\n",
      "      dtype='object')\n"
     ]
    }
   ],
   "source": [
    "print(df_adalab.columns)"
   ]
  },
  {
   "cell_type": "code",
   "execution_count": null,
   "metadata": {},
   "outputs": [],
   "source": [
    "columnas_adalab = ['index', 'time', 'age', 'gender', 'country', 'education', 'role', 'coding_experience', \n",
    "                   'field', 'salary',\n",
    "       'share_plotlydash', 'share_streamlit', 'Q39_Part_3', 'Q39_Part_4', 'Q39_Part_5',\n",
    "       'Q39_Part_6', 'Q39_Part_7', 'Q39_Part_8', 'Q39_Part_9', 'Q39_OTHER',\n",
    "       'Q40_Part_1', 'Q40_Part_2', 'Q40_Part_3', 'Q40_Part_4', 'Q40_Part_5',\n",
    "       'Q40_Part_6', 'Q40_Part_7', 'Q40_Part_8', 'Q40_Part_9', 'Q40_Part_10',\n",
    "       'Q40_Part_11', 'Q40_OTHER', 'Q42_Part_1', 'Q42_Part_2', 'Q42_Part_3',\n",
    "       'Q42_Part_4', 'Q42_Part_5', 'Q42_Part_6', 'Q42_Part_7', 'Q42_Part_8',\n",
    "       'Q42_Part_9', 'Q42_Part_10', 'Q42_Part_11', 'Q42_OTHER']"
   ]
  },
  {
   "cell_type": "code",
   "execution_count": null,
   "metadata": {},
   "outputs": [],
   "source": [
    "● Plotly Dash\n",
    "● Streamlit\n",
    "● NBViewer\n",
    "● GitHub\n",
    "● Personal blog\n",
    "● Kaggle\n",
    "● Colab\n",
    "● Shiny\n",
    "● None / I do not share my work publicly\n",
    "● Other"
   ]
  },
  {
   "cell_type": "code",
   "execution_count": null,
   "metadata": {},
   "outputs": [],
   "source": [
    "nuevas_columnas = {col: col.lower().replace(\" \", \"_\") for col in df_Marketing.columns}   # homogeneizamos columnas\n",
    "df_Marketing.rename(columns = nuevas_columnas, inplace = True)"
   ]
  }
 ],
 "metadata": {
  "kernelspec": {
   "display_name": "base",
   "language": "python",
   "name": "python3"
  },
  "language_info": {
   "codemirror_mode": {
    "name": "ipython",
    "version": 3
   },
   "file_extension": ".py",
   "mimetype": "text/x-python",
   "name": "python",
   "nbconvert_exporter": "python",
   "pygments_lexer": "ipython3",
   "version": "3.9.7"
  },
  "orig_nbformat": 4
 },
 "nbformat": 4,
 "nbformat_minor": 2
}
